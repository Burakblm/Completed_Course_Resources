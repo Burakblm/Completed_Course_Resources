{
 "cells": [
  {
   "cell_type": "markdown",
   "id": "ecf1257f",
   "metadata": {},
   "source": [
    "# Deep Learning"
   ]
  },
  {
   "cell_type": "markdown",
   "id": "86829ffd",
   "metadata": {},
   "source": [
    "## Yapay Sinir Ağları"
   ]
  },
  {
   "cell_type": "code",
   "execution_count": 1,
   "id": "3030cb4b",
   "metadata": {},
   "outputs": [],
   "source": [
    "# kütüphaneleri içeri aktarıyoruz\n",
    "import numpy as np\n",
    "import pandas as pd\n",
    "import seaborn as sns\n",
    "import matplotlib.pyplot as plt\n",
    "\n",
    "# gereksiz uyarıları kapatıyoruz\n",
    "import warnings\n",
    "warnings.filterwarnings(\"ignore\")\n",
    "\n",
    "from sklearn.model_selection import train_test_split\n",
    "from keras.datasets import mnist"
   ]
  },
  {
   "cell_type": "code",
   "execution_count": 2,
   "id": "80060f43",
   "metadata": {},
   "outputs": [],
   "source": [
    "(x_train,y_train),(x_test,y_test) = mnist.load_data()"
   ]
  },
  {
   "cell_type": "code",
   "execution_count": 3,
   "id": "f7366952",
   "metadata": {},
   "outputs": [
    {
     "name": "stdout",
     "output_type": "stream",
     "text": [
      "(60000, 28, 28)\n",
      "(60000,)\n",
      "(10000, 28, 28)\n",
      "(10000,)\n"
     ]
    }
   ],
   "source": [
    "print(x_train.shape)\n",
    "print(y_train.shape)\n",
    "print(x_test.shape)\n",
    "print(y_test.shape)"
   ]
  },
  {
   "cell_type": "markdown",
   "id": "055b429f",
   "metadata": {},
   "source": [
    "#### MNIST datasetindeki 0 ve 1 olanları alma"
   ]
  },
  {
   "cell_type": "code",
   "execution_count": 4,
   "id": "0c6d4867",
   "metadata": {},
   "outputs": [],
   "source": [
    "x_train2 = []\n",
    "y_train2 = []\n",
    "x_test2 = []\n",
    "y_test2 = []\n",
    "for i in range(y_train.shape[0]):\n",
    "    if y_train[i] == 1 or y_train[i] == 0:\n",
    "        x_train2.append(x_train[i])\n",
    "        y_train2.append(y_train[i])\n",
    "        \n",
    "for i in range(y_test.shape[0]):\n",
    "    if y_test[i] == 1 or y_test[i] == 0:\n",
    "        x_test2.append(x_test[i])\n",
    "        y_test2.append(y_test[i])"
   ]
  },
  {
   "cell_type": "code",
   "execution_count": 5,
   "id": "4156b2a8",
   "metadata": {},
   "outputs": [],
   "source": [
    "x_train = np.array(x_train2)\n",
    "y_train = np.array(y_train2)\n",
    "x_test = np.array(x_test2)\n",
    "y_test = np.array(y_test2)\n"
   ]
  },
  {
   "cell_type": "code",
   "execution_count": 6,
   "id": "ef2a7307",
   "metadata": {},
   "outputs": [
    {
     "name": "stdout",
     "output_type": "stream",
     "text": [
      "(12665, 28, 28)\n",
      "(12665,)\n",
      "(2115, 28, 28)\n",
      "(2115,)\n"
     ]
    }
   ],
   "source": [
    "print(x_train.shape)\n",
    "print(y_train.shape)\n",
    "print(x_test.shape)\n",
    "print(y_test.shape)"
   ]
  },
  {
   "cell_type": "markdown",
   "id": "64c93f8c",
   "metadata": {},
   "source": [
    "### Verileri Görselleştiriyoruz"
   ]
  },
  {
   "cell_type": "code",
   "execution_count": 7,
   "id": "7c71ce8f",
   "metadata": {},
   "outputs": [
    {
     "data": {
      "image/png": "[encoded data removed]",
      "text/plain": [
       "<Figure size 432x288 with 1 Axes>"
      ]
     },
     "metadata": {
      "needs_background": "light"
     },
     "output_type": "display_data"
    }
   ],
   "source": [
    "plt.figure()\n",
    "plt.imshow(x_train[765],cmap=\"gray\")\n",
    "plt.axis(\"off\")\n",
    "plt.show()"
   ]
  },
  {
   "cell_type": "code",
   "execution_count": 8,
   "id": "1c270bed",
   "metadata": {},
   "outputs": [
    {
     "data": {
      "image/png": "[encoded data removed]",
      "text/plain": [
       "<Figure size 432x288 with 1 Axes>"
      ]
     },
     "metadata": {
      "needs_background": "light"
     },
     "output_type": "display_data"
    }
   ],
   "source": [
    "plt.figure()\n",
    "plt.imshow(x_train[0],cmap=\"gray\")\n",
    "plt.axis(\"off\")\n",
    "plt.show()"
   ]
  },
  {
   "cell_type": "code",
   "execution_count": 9,
   "id": "5e363bd6",
   "metadata": {},
   "outputs": [],
   "source": [
    "import random\n",
    "\n",
    "# ilklendirme\n",
    "def layerSayisiniParametreleriIlklendir(x_train,y_train):\n",
    "    parameters = {\n",
    "        \"weight1\":np.random.randn(3,x_train.shape[0]) * 0.1,\n",
    "        \"bias1\": np.zeros((3,1)),\n",
    "        \"weight2\":np.random.randn(3,y_train.shape[0]) * 0.1,\n",
    "        \"bias2\": np.zeros(y_train.shape[0],1)}\n",
    "    return parameters"
   ]
  },
  {
   "cell_type": "code",
   "execution_count": 10,
   "id": "8af9e922",
   "metadata": {},
   "outputs": [],
   "source": [
    "def sigmoid(z):\n",
    "    return 1/(1+np.exp(-z))\n"
   ]
  },
  {
   "cell_type": "code",
   "execution_count": 11,
   "id": "833b65f6",
   "metadata": {},
   "outputs": [],
   "source": [
    "# yapay sinir ağı kütüphaneleri\n",
    "from keras.wrappers.scikit_learn import KerasClassifier\n",
    "from sklearn.model_selection import cross_val_score\n",
    "from keras.models import Sequential\n",
    "from keras.layers import Dense"
   ]
  },
  {
   "cell_type": "code",
   "execution_count": 12,
   "id": "f24d1487",
   "metadata": {},
   "outputs": [],
   "source": [
    "#x_train = x_train.reshape(x_train.shape[0],28,28,1)\n",
    "#x_test = x_train.reshape(x_train.shape[0],28,28,1)\n"
   ]
  },
  {
   "cell_type": "code",
   "execution_count": 13,
   "id": "b6bc2f29",
   "metadata": {},
   "outputs": [
    {
     "data": {
      "image/png": "[encoded data removed]",
      "text/plain": [
       "<Figure size 432x288 with 1 Axes>"
      ]
     },
     "metadata": {
      "needs_background": "light"
     },
     "output_type": "display_data"
    },
    {
     "data": {
      "text/plain": [
       "1"
      ]
     },
     "execution_count": 13,
     "metadata": {},
     "output_type": "execute_result"
    }
   ],
   "source": [
    "plt.figure()\n",
    "plt.imshow(x_train[987],cmap=\"gray\")\n",
    "plt.axis(\"off\")\n",
    "plt.show()\n",
    "y_train[987]"
   ]
  },
  {
   "cell_type": "markdown",
   "id": "a80c48ad",
   "metadata": {},
   "source": [
    "## Model Kurulumu"
   ]
  },
  {
   "cell_type": "code",
   "execution_count": 15,
   "id": "991bcf9a",
   "metadata": {},
   "outputs": [],
   "source": [
    "(x_train,y_train),(x_test,y_test) = mnist.load_data()\n",
    "\n",
    "x_train = x_train / 255.0\n",
    "x_test = x_test / 255.0\n",
    "\n",
    "import tensorflow as tf\n",
    "\n",
    "model = tf.keras.Sequential([\n",
    "    tf.keras.layers.Flatten(input_shape=(28,28)),\n",
    "    tf.keras.layers.Dense(64,activation=\"relu\"),\n",
    "    tf.keras.layers.Dense(64,activation=\"relu\"),\n",
    "\n",
    "\n",
    "    tf.keras.layers.Dense(10,activation=\"sigmoid\")\n",
    "])\n",
    "\n",
    "model.compile(optimizer=\"adam\",loss=\"categorical_crossentropy\",metrics=[\"accuracy\"])\n",
    "\n"
   ]
  },
  {
   "cell_type": "markdown",
   "id": "69d3c5dd",
   "metadata": {},
   "source": [
    "# Evrişimsel Sinir Ağları"
   ]
  },
  {
   "cell_type": "code",
   "execution_count": 17,
   "id": "d607d3a2",
   "metadata": {},
   "outputs": [],
   "source": [
    "# kütüphaneleri içeri aktarıyoruz\n",
    "import numpy as np\n",
    "import pandas as pd\n",
    "import seaborn as sns\n",
    "import matplotlib.pyplot as plt\n",
    "\n",
    "# gereksiz uyarıları kapatıyoruz\n",
    "import warnings\n",
    "warnings.filterwarnings(\"ignore\")\n",
    "\n",
    "from sklearn.model_selection import train_test_split\n",
    "from keras.datasets import mnist"
   ]
  },
  {
   "cell_type": "code",
   "execution_count": 72,
   "id": "f620b95d",
   "metadata": {},
   "outputs": [],
   "source": [
    "(x_train,y_train),(x_test,y_test) = mnist.load_data()"
   ]
  },
  {
   "cell_type": "code",
   "execution_count": 73,
   "id": "f823252c",
   "metadata": {},
   "outputs": [
    {
     "name": "stdout",
     "output_type": "stream",
     "text": [
      "(60000, 28, 28)\n",
      "(60000,)\n",
      "(10000, 28, 28)\n",
      "(10000,)\n"
     ]
    }
   ],
   "source": [
    "print(x_train.shape)\n",
    "print(y_train.shape)\n",
    "print(x_test.shape)\n",
    "print(y_test.shape)"
   ]
  },
  {
   "cell_type": "code",
   "execution_count": 74,
   "id": "9a6bb6a1",
   "metadata": {},
   "outputs": [
    {
     "data": {
      "image/png": "[encoded data removed]",
      "text/plain": [
       "<Figure size 1080x504 with 1 Axes>"
      ]
     },
     "metadata": {
      "needs_background": "light"
     },
     "output_type": "display_data"
    }
   ],
   "source": [
    "plt.figure(figsize=(15,7))\n",
    "g = sns.countplot(y_train,palette=\"icefire\")\n",
    "plt.title(\"Sınıflar\")\n",
    "plt.show()\n"
   ]
  },
  {
   "cell_type": "code",
   "execution_count": 75,
   "id": "bd83e473",
   "metadata": {},
   "outputs": [
    {
     "data": {
      "image/png": "[encoded data removed]",
      "text/plain": [
       "<Figure size 432x288 with 1 Axes>"
      ]
     },
     "metadata": {
      "needs_background": "light"
     },
     "output_type": "display_data"
    },
    {
     "data": {
      "text/plain": [
       "7"
      ]
     },
     "execution_count": 75,
     "metadata": {},
     "output_type": "execute_result"
    }
   ],
   "source": [
    "# veriyi görselleştiriyoruz\n",
    "plt.figure()\n",
    "plt.imshow(x_train[84],cmap=\"gray\")\n",
    "plt.axis(\"off\")\n",
    "plt.show()\n",
    "y_train[84]"
   ]
  },
  {
   "cell_type": "markdown",
   "id": "413ca358",
   "metadata": {},
   "source": [
    "### Normaleştirme Yeniden Şekillendirme ve Etiket Kodlama"
   ]
  },
  {
   "cell_type": "code",
   "execution_count": 76,
   "id": "0e000863",
   "metadata": {},
   "outputs": [],
   "source": [
    "x_train = x_train / 255.0\n",
    "x_test = x_test / 255.0"
   ]
  },
  {
   "cell_type": "code",
   "execution_count": 77,
   "id": "43e67057",
   "metadata": {},
   "outputs": [],
   "source": [
    "# verimizi modele verilmeye uygun boyutlara getiriyourz\n",
    "x_train = x_train.reshape(-1,28,28,1)\n",
    "x_test = x_test.reshape(-1,28,28,1)"
   ]
  },
  {
   "cell_type": "code",
   "execution_count": 78,
   "id": "0fe0b3c0",
   "metadata": {},
   "outputs": [],
   "source": [
    "# etiket kodlama\n",
    "from keras.utils.np_utils import to_categorical\n",
    "y_train = to_categorical(y_train,num_classes = 10)\n",
    "y_test = to_categorical(y_test,num_classes=10)"
   ]
  },
  {
   "cell_type": "code",
   "execution_count": 79,
   "id": "665d54e2",
   "metadata": {},
   "outputs": [
    {
     "data": {
      "text/plain": [
       "(60000, 28, 28, 1)"
      ]
     },
     "execution_count": 79,
     "metadata": {},
     "output_type": "execute_result"
    }
   ],
   "source": [
    "x_train.shape"
   ]
  },
  {
   "cell_type": "markdown",
   "id": "4427d3a9",
   "metadata": {},
   "source": [
    "### Kütüphaneleri Yükleyelim"
   ]
  },
  {
   "cell_type": "code",
   "execution_count": 80,
   "id": "13c5daf2",
   "metadata": {},
   "outputs": [],
   "source": [
    "from sklearn.metrics import confusion_matrix\n",
    "import itertools\n",
    "from keras.utils.np_utils import to_categorical\n",
    "from keras.models import Sequential\n",
    "from keras.layers import Dense, Dropout, Flatten, Conv2D, MaxPooling2D\n",
    "from keras.preprocessing.image import ImageDataGenerator\n",
    "from keras.callbacks import ReduceLROnPlateau"
   ]
  },
  {
   "cell_type": "code",
   "execution_count": 81,
   "id": "cb177af2",
   "metadata": {},
   "outputs": [],
   "source": [
    "model = Sequential()\n",
    "#\n",
    "model.add(Conv2D(filters=8,kernel_size=(5,5),padding=\"same\",activation=\"relu\",input_shape=(28,28,1)))\n",
    "model.add(MaxPooling2D(pool_size=(2,2)))\n",
    "model.add(Dropout(0.25))\n",
    "#\n",
    "model.add(Conv2D(filters=16,kernel_size=(3,3),padding=\"same\",activation=\"relu\"))\n",
    "model.add(MaxPooling2D(pool_size=(2,2)))\n",
    "model.add(Dropout(0.25))\n",
    "# tam bağlantı\n",
    "model.add(Flatten())\n",
    "model.add(Dense(256,activation=\"relu\"))\n",
    "model.add(Dropout(0.5))\n",
    "model.add(Dense(10,activation=\"softmax\"))"
   ]
  },
  {
   "cell_type": "markdown",
   "id": "12fc5459",
   "metadata": {},
   "source": [
    "### Modelin Derlenmesi"
   ]
  },
  {
   "cell_type": "code",
   "execution_count": 82,
   "id": "69b2881d",
   "metadata": {},
   "outputs": [],
   "source": [
    "model.compile(optimizer=\"adam\",loss=\"categorical_crossentropy\",metrics=[\"accuracy\"])"
   ]
  },
  {
   "cell_type": "code",
   "execution_count": 83,
   "id": "27e7a28f",
   "metadata": {},
   "outputs": [],
   "source": [
    "epochs = 10\n",
    "batch_size = 256"
   ]
  },
  {
   "cell_type": "markdown",
   "id": "c8c079f6",
   "metadata": {},
   "source": [
    "## Veri Artırma"
   ]
  },
  {
   "cell_type": "code",
   "execution_count": 84,
   "id": "a78c7b51",
   "metadata": {},
   "outputs": [],
   "source": [
    "# data agumentation\n",
    "datagen = ImageDataGenerator(\n",
    "    featurewise_center=False,# girdi ortalamasını veri kümesi üzerinden 0 olarak ayarlayın\n",
    "    samplewise_center=False,# her bir örnek ortalamasını 0 olarak ayarlayın\n",
    "    featurewise_std_normalization=False,# girdileri veri kümesi standartlarına böl\n",
    "    samplewise_std_normalization=False,# her girdiyi standart sapmaya böl\n",
    "    zca_whitening=False, # dimesion redication\n",
    "    rotation_range=5, # boyut küçültme\n",
    "    zoom_range=0.1, # %10 görüntüyü  rastgele yakınlaştır\n",
    "    width_shift_range=0.1, # görüntüleri yatay olarak rastgele kaydır % 10\n",
    "    height_shift_range=0.1, # görüntüleri dikey olarak rastgele kaydır % 10\n",
    "    horizontal_flip=False, # görüntüleri yatay olarak rastgele çevir\n",
    "    vertical_flip=False) # görüntüleri dikey olarak rastgele çevir\n",
    "\n",
    "datagen.fit(x_train)"
   ]
  },
  {
   "cell_type": "markdown",
   "id": "f6b7d68b",
   "metadata": {},
   "source": [
    "### Modelin Eğitilmesi"
   ]
  },
  {
   "cell_type": "code",
   "execution_count": 87,
   "id": "ea1103cf",
   "metadata": {},
   "outputs": [
    {
     "name": "stdout",
     "output_type": "stream",
     "text": [
      "Epoch 1/2\n",
      "234/234 - 64s - loss: 0.3767 - accuracy: 0.8813 - val_loss: 0.0613 - val_accuracy: 0.9804\n",
      "Epoch 2/2\n",
      "234/234 - 64s - loss: 0.2456 - accuracy: 0.9237 - val_loss: 0.0496 - val_accuracy: 0.9842\n"
     ]
    }
   ],
   "source": [
    "hist = model.fit_generator(datagen.flow(x_train,y_train,batch_size = batch_size),\n",
    "                           validation_data=(x_test,y_test),\n",
    "                           epochs=2,steps_per_epoch=x_train.shape[0]//batch_size,verbose=2)"
   ]
  },
  {
   "cell_type": "markdown",
   "id": "5babbed2",
   "metadata": {},
   "source": [
    "### Modelin Değerlendirilmesi"
   ]
  },
  {
   "cell_type": "code",
   "execution_count": 1,
   "id": "5cffa1df",
   "metadata": {},
   "outputs": [
    {
     "ename": "NameError",
     "evalue": "name 'model' is not defined",
     "output_type": "error",
     "traceback": [
      "\u001b[1;31m---------------------------------------------------------------------------\u001b[0m",
      "\u001b[1;31mNameError\u001b[0m                                 Traceback (most recent call last)",
      "\u001b[1;32m<ipython-input-1-1469ea8bab00>\u001b[0m in \u001b[0;36m<module>\u001b[1;34m\u001b[0m\n\u001b[1;32m----> 1\u001b[1;33m \u001b[0mloss_train\u001b[0m \u001b[1;33m=\u001b[0m \u001b[0mmodel\u001b[0m\u001b[1;33m.\u001b[0m\u001b[0mhistory\u001b[0m\u001b[1;33m[\u001b[0m\u001b[1;34m'train_loss'\u001b[0m\u001b[1;33m]\u001b[0m\u001b[1;33m\u001b[0m\u001b[1;33m\u001b[0m\u001b[0m\n\u001b[0m\u001b[0;32m      2\u001b[0m \u001b[0mloss_val\u001b[0m \u001b[1;33m=\u001b[0m \u001b[0mmodel\u001b[0m\u001b[1;33m.\u001b[0m\u001b[0mhistory\u001b[0m\u001b[1;33m[\u001b[0m\u001b[1;34m'val_loss'\u001b[0m\u001b[1;33m]\u001b[0m\u001b[1;33m\u001b[0m\u001b[1;33m\u001b[0m\u001b[0m\n\u001b[0;32m      3\u001b[0m \u001b[0mepochs\u001b[0m \u001b[1;33m=\u001b[0m \u001b[0mrange\u001b[0m\u001b[1;33m(\u001b[0m\u001b[1;36m1\u001b[0m\u001b[1;33m,\u001b[0m\u001b[1;36m35\u001b[0m\u001b[1;33m)\u001b[0m\u001b[1;33m\u001b[0m\u001b[1;33m\u001b[0m\u001b[0m\n\u001b[0;32m      4\u001b[0m \u001b[0mplt\u001b[0m\u001b[1;33m.\u001b[0m\u001b[0mplot\u001b[0m\u001b[1;33m(\u001b[0m\u001b[0mepochs\u001b[0m\u001b[1;33m,\u001b[0m \u001b[0mloss_train\u001b[0m\u001b[1;33m,\u001b[0m \u001b[1;34m'g'\u001b[0m\u001b[1;33m,\u001b[0m \u001b[0mlabel\u001b[0m\u001b[1;33m=\u001b[0m\u001b[1;34m'Training loss'\u001b[0m\u001b[1;33m)\u001b[0m\u001b[1;33m\u001b[0m\u001b[1;33m\u001b[0m\u001b[0m\n\u001b[0;32m      5\u001b[0m \u001b[0mplt\u001b[0m\u001b[1;33m.\u001b[0m\u001b[0mplot\u001b[0m\u001b[1;33m(\u001b[0m\u001b[0mepochs\u001b[0m\u001b[1;33m,\u001b[0m \u001b[0mloss_val\u001b[0m\u001b[1;33m,\u001b[0m \u001b[1;34m'b'\u001b[0m\u001b[1;33m,\u001b[0m \u001b[0mlabel\u001b[0m\u001b[1;33m=\u001b[0m\u001b[1;34m'validation loss'\u001b[0m\u001b[1;33m)\u001b[0m\u001b[1;33m\u001b[0m\u001b[1;33m\u001b[0m\u001b[0m\n",
      "\u001b[1;31mNameError\u001b[0m: name 'model' is not defined"
     ]
    }
   ],
   "source": [
    "plt.plot(hist.history[\"val_loss\"],color=\"b\")\n",
    "plt.title(\"Test Maliyet\")\n",
    "plt.xlabel(\"İterasyon\")\n",
    "plt.ylabel(\"maliyet\")\n",
    "plt.show()"
   ]
  },
  {
   "cell_type": "code",
   "execution_count": 90,
   "id": "3dde5a2b",
   "metadata": {},
   "outputs": [
    {
     "data": {
      "image/png": "[encoded data removed]",
      "text/plain": [
       "<Figure size 576x576 with 2 Axes>"
      ]
     },
     "metadata": {
      "needs_background": "light"
     },
     "output_type": "display_data"
    }
   ],
   "source": [
    "# test setinden tahmin et\n",
    "y_pred = model.predict(x_test)\n",
    "\n",
    "# tahmin edilen veriyi çevir\n",
    "y_pred_class = np.argmax(y_pred,axis=1)\n",
    "\n",
    "# test verisi çevir\n",
    "y_true = np.argmax(y_test,axis=1)\n",
    "\n",
    "# karışıklık matrisi hesaplama\n",
    "confusion_mtx = confusion_matrix(y_true,y_pred_class)\n",
    "\n",
    "# karşıklık matrisi çizdir\n",
    "f, ax = plt.subplots(figsize=(8,8))\n",
    "sns.heatmap(confusion_mtx, annot=True, linewidths=0.01, cmap=\"Greens\",linecolor=\"gray\",fmt=\".1f\",ax=ax)\n",
    "plt.xlabel(\"tahmin edilen etiket\")\n",
    "plt.ylabel(\"Gerçek etiket\")\n",
    "plt.title(\"Karışıklık matrisi\")\n",
    "plt.show()"
   ]
  },
  {
   "cell_type": "markdown",
   "id": "8761bffc",
   "metadata": {},
   "source": [
    "# Tekrarlayan Sinir Ağları"
   ]
  },
  {
   "cell_type": "markdown",
   "id": "c545722b",
   "metadata": {},
   "source": [
    "## Keras İle Tekrarlayan Sinir Ağları"
   ]
  },
  {
   "cell_type": "markdown",
   "id": "1ad435a2",
   "metadata": {},
   "source": [
    "Veri Seti Tanıma"
   ]
  },
  {
   "cell_type": "code",
   "execution_count": 91,
   "id": "7f9cb090",
   "metadata": {},
   "outputs": [],
   "source": [
    "# veri setini yükleyelim\n",
    "import numpy as np\n",
    "import matplotlib.pyplot as plt\n",
    "import pandas as pd\n",
    "import warnings\n",
    "warnings.filterwarnings(\"ignore\")"
   ]
  },
  {
   "cell_type": "code",
   "execution_count": 94,
   "id": "b60bac82",
   "metadata": {},
   "outputs": [
    {
     "data": {
      "text/html": [
       "<div>\n",
       "<style scoped>\n",
       "    .dataframe tbody tr th:only-of-type {\n",
       "        vertical-align: middle;\n",
       "    }\n",
       "\n",
       "    .dataframe tbody tr th {\n",
       "        vertical-align: top;\n",
       "    }\n",
       "\n",
       "    .dataframe thead th {\n",
       "        text-align: right;\n",
       "    }\n",
       "</style>\n",
       "<table border=\"1\" class=\"dataframe\">\n",
       "  <thead>\n",
       "    <tr style=\"text-align: right;\">\n",
       "      <th></th>\n",
       "      <th>Month</th>\n",
       "      <th>International airline passengers: monthly totals in thousands. Jan 49 ? Dec 60</th>\n",
       "    </tr>\n",
       "  </thead>\n",
       "  <tbody>\n",
       "    <tr>\n",
       "      <th>0</th>\n",
       "      <td>1949-01</td>\n",
       "      <td>112.0</td>\n",
       "    </tr>\n",
       "    <tr>\n",
       "      <th>1</th>\n",
       "      <td>1949-02</td>\n",
       "      <td>118.0</td>\n",
       "    </tr>\n",
       "    <tr>\n",
       "      <th>2</th>\n",
       "      <td>1949-03</td>\n",
       "      <td>132.0</td>\n",
       "    </tr>\n",
       "    <tr>\n",
       "      <th>3</th>\n",
       "      <td>1949-04</td>\n",
       "      <td>129.0</td>\n",
       "    </tr>\n",
       "    <tr>\n",
       "      <th>4</th>\n",
       "      <td>1949-05</td>\n",
       "      <td>121.0</td>\n",
       "    </tr>\n",
       "  </tbody>\n",
       "</table>\n",
       "</div>"
      ],
      "text/plain": [
       "     Month  \\\n",
       "0  1949-01   \n",
       "1  1949-02   \n",
       "2  1949-03   \n",
       "3  1949-04   \n",
       "4  1949-05   \n",
       "\n",
       "   International airline passengers: monthly totals in thousands. Jan 49 ? Dec 60  \n",
       "0                                              112.0                               \n",
       "1                                              118.0                               \n",
       "2                                              132.0                               \n",
       "3                                              129.0                               \n",
       "4                                              121.0                               "
      ]
     },
     "execution_count": 94,
     "metadata": {},
     "output_type": "execute_result"
    }
   ],
   "source": [
    "# veriyi içeri aktar\n",
    "veri = pd.read_csv(\"international-airline-passengers.csv\")\n",
    "veri.head()"
   ]
  },
  {
   "cell_type": "code",
   "execution_count": 95,
   "id": "5edac12d",
   "metadata": {},
   "outputs": [
    {
     "data": {
      "image/png": "[encoded data removed]",
      "text/plain": [
       "<Figure size 432x288 with 1 Axes>"
      ]
     },
     "metadata": {
      "needs_background": "light"
     },
     "output_type": "display_data"
    }
   ],
   "source": [
    "# veriyi görseleştirelim\n",
    "veri = veri.iloc[:,1].values\n",
    "plt.plot(veri)\n",
    "plt.xlabel(\"zaman\")\n",
    "plt.ylabel(\"yolcu sayisi\")\n",
    "plt.title(\"uluslararası havayolu yolcuları\")\n",
    "plt.show()"
   ]
  },
  {
   "cell_type": "code",
   "execution_count": 97,
   "id": "cde83eb7",
   "metadata": {},
   "outputs": [
    {
     "data": {
      "text/plain": [
       "(145, 1)"
      ]
     },
     "execution_count": 97,
     "metadata": {},
     "output_type": "execute_result"
    }
   ],
   "source": [
    "# verilerin şeklini  ve veri tiplerini değiştir\n",
    "veri = veri.reshape(-1,1)\n",
    "veri = veri.astype(\"float32\")\n",
    "veri.shape"
   ]
  },
  {
   "cell_type": "code",
   "execution_count": 98,
   "id": "9c03a821",
   "metadata": {},
   "outputs": [
    {
     "data": {
      "text/plain": [
       "array([[0.01544401],\n",
       "       [0.02702703],\n",
       "       [0.05405405],\n",
       "       [0.04826255]], dtype=float32)"
      ]
     },
     "execution_count": 98,
     "metadata": {},
     "output_type": "execute_result"
    }
   ],
   "source": [
    "# normalize edelim\n",
    "from sklearn.preprocessing import MinMaxScaler\n",
    "scaler = MinMaxScaler(feature_range = (0,1))\n",
    "veri_scaled = scaler.fit_transform(veri)\n",
    "veri_scaled[:4]"
   ]
  },
  {
   "cell_type": "code",
   "execution_count": 115,
   "id": "725c5de0",
   "metadata": {},
   "outputs": [
    {
     "name": "stdout",
     "output_type": "stream",
     "text": [
      "Egitim boyu:87, Test boyu:58\n"
     ]
    }
   ],
   "source": [
    "# veriyi eğitim ve test olarak bölelim\n",
    "# verilerin %60'lık ilk kısmını eğitim kalanını da test icin ayırıyoruz\n",
    "egitim_boyu = int(len(veri) * 0.60)\n",
    "test_boyu = len(veri) - egitim_boyu\n",
    "egitim = veri_scaled[0:egitim_boyu,:]\n",
    "test = veri_scaled[egitim_boyu:len(veri),:]\n",
    "print(\"Egitim boyu:{}, Test boyu:{}\".format(len(egitim),len(test)))"
   ]
  },
  {
   "cell_type": "code",
   "execution_count": 119,
   "id": "605fc50e",
   "metadata": {},
   "outputs": [
    {
     "name": "stdout",
     "output_type": "stream",
     "text": [
      "(76, 10)\n",
      "(76,)\n"
     ]
    }
   ],
   "source": [
    "# eğitim verisini 10'ar lı olarak yeniden şekilendirelim\n",
    "time_stemp = 10\n",
    "dataX = []\n",
    "dataY = []\n",
    "for i in range(len(egitim)-time_stemp-1):\n",
    "    a = egitim[i:(i+time_stemp),0]\n",
    "    dataX.append(a)\n",
    "    dataY.append(egitim[i + time_stemp,0])\n",
    "    \n",
    "egitimX = np.array(dataX)\n",
    "egitimY = np.array(dataY)\n",
    "\n",
    "print(egitimX.shape)\n",
    "print(egitimY.shape)"
   ]
  },
  {
   "cell_type": "code",
   "execution_count": 120,
   "id": "202fefb3",
   "metadata": {},
   "outputs": [
    {
     "name": "stdout",
     "output_type": "stream",
     "text": [
      "(47, 10)\n",
      "(47,)\n"
     ]
    }
   ],
   "source": [
    "# eğitim verisini 10'ar lı olarak yeniden şekilendirelim\n",
    "time_stemp = 10\n",
    "dataX = []\n",
    "dataY = []\n",
    "for i in range(len(test)-time_stemp-1):\n",
    "    a = test[i:(i+time_stemp),0]\n",
    "    dataX.append(a)\n",
    "    dataY.append(test[i + time_stemp,0])\n",
    "    \n",
    "testX = np.array(dataX)\n",
    "testY = np.array(dataY)\n",
    "\n",
    "print(testX.shape)\n",
    "print(testY.shape)"
   ]
  },
  {
   "cell_type": "code",
   "execution_count": 121,
   "id": "b874e4d0",
   "metadata": {},
   "outputs": [
    {
     "name": "stdout",
     "output_type": "stream",
     "text": [
      "Egitim X şekli:  (76, 10, 1)\n",
      "Test X şekli:  (47, 10, 1)\n"
     ]
    }
   ],
   "source": [
    "# verilerin şeklini keras için uygun hale getirelim\n",
    "egitimX = np.reshape(egitimX, (egitimX.shape[0], egitimX.shape[1],1))\n",
    "testX = np.reshape(testX, (testX.shape[0],testX.shape[1],1))\n",
    "print(\"Egitim X şekli: \",egitimX.shape)\n",
    "print(\"Test X şekli: \",testX.shape)"
   ]
  },
  {
   "cell_type": "markdown",
   "id": "d2c7e863",
   "metadata": {},
   "source": [
    "## Create RNN Model"
   ]
  },
  {
   "cell_type": "code",
   "execution_count": 123,
   "id": "06771f63",
   "metadata": {},
   "outputs": [
    {
     "data": {
      "text/plain": [
       "<keras.callbacks.History at 0x1b74aac3490>"
      ]
     },
     "execution_count": 123,
     "metadata": {},
     "output_type": "execute_result"
    }
   ],
   "source": [
    "# gerekli kütüphane metodlarını içeri aktaralım\n",
    "from keras.models import Sequential\n",
    "from keras.layers import Dense,SimpleRNN,Dropout\n",
    "\n",
    "# tekrarlayan sinir ağının temellerini oluşturur\n",
    "regressor = Sequential()\n",
    "\n",
    "# ilk katman ve dropout katmanı\n",
    "regressor.add(SimpleRNN(units = 120,\n",
    "                       activation = \"relu\", \n",
    "                       return_sequences = True,\n",
    "                       input_shape = (egitimX.shape[1],1)))\n",
    "\n",
    "regressor.add(Dropout(0.2))\n",
    "\n",
    "# ikinci katman ve dropout katmanı\n",
    "regressor.add(SimpleRNN(units = 80, \n",
    "                       activation=\"relu\",\n",
    "                       return_sequences=True))\n",
    "\n",
    "regressor.add(Dropout(0.2))\n",
    "\n",
    "# üçüncü katman ve dropout katmanı\n",
    "regressor.add(SimpleRNN(units = 40, \n",
    "                       activation=\"relu\",\n",
    "                       return_sequences=True))\n",
    "\n",
    "regressor.add(Dropout(0.2))\n",
    "\n",
    "\n",
    "# dördüncü katman ve dropout katmanı\n",
    "regressor.add(SimpleRNN(units = 20, \n",
    "                       activation=\"relu\",\n",
    "                       return_sequences=True))\n",
    "\n",
    "regressor.add(Dropout(0.2))\n",
    "\n",
    "# beşinci katman ve dropout katmanı\n",
    "regressor.add(SimpleRNN(units = 10))\n",
    "regressor.add(Dropout(0.2))\n",
    "\n",
    "# tek bir çıkış olacak\n",
    "regressor.add(Dense(units = 1))\n",
    "\n",
    "# derliyoruz\n",
    "regressor.compile(optimizer=\"adam\", loss = \"mean_squared_error\")\n",
    "\n",
    "# eğitim\n",
    "regressor.fit(egitimX,egitimY,epochs=250, batch_size= 50,verbose=0)\n"
   ]
  },
  {
   "cell_type": "markdown",
   "id": "04b4a07e",
   "metadata": {},
   "source": [
    "### Tahminleme Ve Modelin Değerlendirilmesi"
   ]
  },
  {
   "cell_type": "code",
   "execution_count": 124,
   "id": "623754f8",
   "metadata": {},
   "outputs": [],
   "source": [
    "# gerekli kütüphaneleri ekleyelim\n",
    "import math\n",
    "from sklearn.metrics import mean_squared_error\n",
    "\n",
    "egitimTahmin = regressor.predict(egitimX)\n",
    "testTahmin = regressor.predict(testX)\n",
    "\n",
    "# normalize edilmiş veriyi normale çevirelim\n",
    "egitimTahmin = scaler.inverse_transform(egitimTahmin)\n",
    "egitimY = scaler.inverse_transform([egitimY])\n",
    "\n",
    "testTahmin = scaler.inverse_transform(testTahmin)\n",
    "testY = scaler.inverse_transform([testY])"
   ]
  },
  {
   "cell_type": "code",
   "execution_count": 126,
   "id": "f38fd3fd",
   "metadata": {},
   "outputs": [
    {
     "name": "stdout",
     "output_type": "stream",
     "text": [
      "Eğitim Skoru: 19.24 RMSE\n",
      "Eğitim Skoru: 60.79 RMSE\n"
     ]
    }
   ],
   "source": [
    "# kök ortalama kare hata\n",
    "trainScore= math.sqrt(mean_squared_error(egitimY[0], egitimTahmin[:,0]))\n",
    "print(\"Eğitim Skoru: %.2f RMSE\" % (trainScore))\n",
    "\n",
    "testScore= math.sqrt(mean_squared_error(testY[0], testTahmin[:,0]))\n",
    "print(\"Eğitim Skoru: %.2f RMSE\" % (testScore))"
   ]
  },
  {
   "cell_type": "code",
   "execution_count": 133,
   "id": "b94acfe4",
   "metadata": {},
   "outputs": [
    {
     "data": {
      "image/png": "[encoded data removed]",
      "text/plain": [
       "<Figure size 432x288 with 1 Axes>"
      ]
     },
     "metadata": {
      "needs_background": "light"
     },
     "output_type": "display_data"
    }
   ],
   "source": [
    "# eğitim verisi kaydır\n",
    "trainPredictPlot = np.empty_like(veri)\n",
    "trainPredictPlot[:,:] = np.nan\n",
    "trainPredictPlot[time_stemp:len(egitimTahmin)+time_stemp, :] = egitimTahmin\n",
    "\n",
    "# test verisi kaydır\n",
    "testPredictPlot = np.empty_like(veri)\n",
    "testPredictPlot[:,:] = np.nan\n",
    "testPredictPlot[len(egitimTahmin)+(time_stemp*2)+1:len(veri)-1, :] = testTahmin\n",
    "\n",
    "\n",
    "# görselleştir\n",
    "plt.plot(scaler.inverse_transform(veri_scaled), color=\"b\", label = \"Gerçek\")\n",
    "plt.plot(trainPredictPlot, color=\"r\", label= \"Eğitim\")\n",
    "plt.plot(testPredictPlot, color= \"g\", label= \"test\")\n",
    "plt.legend()\n",
    "plt.show()"
   ]
  },
  {
   "cell_type": "code",
   "execution_count": null,
   "id": "9e7cc47d",
   "metadata": {},
   "outputs": [],
   "source": []
  }
 ],
 "metadata": {
  "kernelspec": {
   "display_name": "Python 3",
   "language": "python",
   "name": "python3"
  },
  "language_info": {
   "codemirror_mode": {
    "name": "ipython",
    "version": 3
   },
   "file_extension": ".py",
   "mimetype": "text/x-python",
   "name": "python",
   "nbconvert_exporter": "python",
   "pygments_lexer": "ipython3",
   "version": "3.8.5"
  }
 },
 "nbformat": 4,
 "nbformat_minor": 5
}
