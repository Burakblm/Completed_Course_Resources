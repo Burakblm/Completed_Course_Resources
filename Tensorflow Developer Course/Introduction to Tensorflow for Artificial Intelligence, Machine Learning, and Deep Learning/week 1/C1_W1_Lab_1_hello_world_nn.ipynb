{
 "cells": [
  {
   "cell_type": "markdown",
   "metadata": {},
   "source": [
    "# import libraries"
   ]
  },
  {
   "cell_type": "code",
   "execution_count": 16,
   "metadata": {},
   "outputs": [
    {
     "name": "stdout",
     "output_type": "stream",
     "text": [
      "2.8.0\n"
     ]
    }
   ],
   "source": [
    "import tensorflow as tf\n",
    "import numpy as np\n",
    "from tensorflow import keras\n",
    "\n",
    "print(tf.__version__)"
   ]
  },
  {
   "cell_type": "markdown",
   "metadata": {},
   "source": [
    "# Model Build"
   ]
  },
  {
   "cell_type": "code",
   "execution_count": 17,
   "metadata": {},
   "outputs": [
    {
     "name": "stdout",
     "output_type": "stream",
     "text": [
      "Epoch 1/10\n",
      "1/1 [==============================] - 0s 471ms/step - loss: 156.9099\n",
      "Epoch 2/10\n",
      "1/1 [==============================] - 0s 24ms/step - loss: 19.1087\n",
      "Epoch 3/10\n",
      "1/1 [==============================] - 0s 32ms/step - loss: 2.8004\n",
      "Epoch 4/10\n",
      "1/1 [==============================] - 0s 16ms/step - loss: 0.8634\n",
      "Epoch 5/10\n",
      "1/1 [==============================] - 0s 40ms/step - loss: 0.6266\n",
      "Epoch 6/10\n",
      "1/1 [==============================] - 0s 16ms/step - loss: 0.5910\n",
      "Epoch 7/10\n",
      "1/1 [==============================] - 0s 8ms/step - loss: 0.5793\n",
      "Epoch 8/10\n",
      "1/1 [==============================] - 0s 8ms/step - loss: 0.5706\n",
      "Epoch 9/10\n",
      "1/1 [==============================] - 0s 16ms/step - loss: 0.5622\n",
      "Epoch 10/10\n",
      "1/1 [==============================] - 0s 24ms/step - loss: 0.5541\n",
      "[[18.495768]]\n"
     ]
    }
   ],
   "source": [
    "model = tf.keras.Sequential([keras.layers.Dense(units=1, input_shape=[1])])\n",
    "\n",
    "model.compile(optimizer=\"sgd\",loss=\"mean_squared_error\")\n",
    "\n",
    "xs = np.array([-1.0,  0.0, 1.0, 2.0, 3.0, 4.0, 5.0, 6.0, 7.0, 8.0, 9.0, 10.0], dtype=float)\n",
    "ys = np.array([-3.0, -1.0, 1.0, 3.0, 5.0, 7.0, 9.0, 11.0, 13.0, 15.0, 17.0, 19.0], dtype=float)\n",
    "\n",
    "model.fit(xs, ys, epochs=10)\n",
    "\n",
    "print(model.predict([10.0]))"
   ]
  }
 ],
 "metadata": {
  "kernelspec": {
   "display_name": "Python 3",
   "language": "python",
   "name": "python3"
  },
  "language_info": {
   "codemirror_mode": {
    "name": "ipython",
    "version": 3
   },
   "file_extension": ".py",
   "mimetype": "text/x-python",
   "name": "python",
   "nbconvert_exporter": "python",
   "pygments_lexer": "ipython3",
   "version": "3.8.5"
  }
 },
 "nbformat": 4,
 "nbformat_minor": 4
}
